{
  "nbformat": 4,
  "nbformat_minor": 0,
  "metadata": {
    "colab": {
      "name": "Emotion Recognition.ipynb",
      "provenance": [],
      "toc_visible": true
    },
    "kernelspec": {
      "name": "python3",
      "display_name": "Python 3"
    },
    "accelerator": "GPU"
  },
  "cells": [
    {
      "cell_type": "code",
      "metadata": {
        "id": "VNP2Ez4m1NPv",
        "colab_type": "code",
        "outputId": "1f60171f-8377-4f5f-be8d-83f708fd7c90",
        "colab": {
          "base_uri": "https://localhost:8080/",
          "height": 34
        }
      },
      "source": [
        "%tensorflow_version 2.x\n",
        "import tensorflow as tf\n",
        "from tensorflow.keras.preprocessing.image import ImageDataGenerator"
      ],
      "execution_count": 1,
      "outputs": [
        {
          "output_type": "stream",
          "text": [
            "TensorFlow 2.x selected.\n"
          ],
          "name": "stdout"
        }
      ]
    },
    {
      "cell_type": "code",
      "metadata": {
        "id": "ztjVndPff36h",
        "colab_type": "code",
        "colab": {
          "base_uri": "https://localhost:8080/",
          "height": 34
        },
        "outputId": "a36f7f3d-0565-4dbf-a7d9-e5e1044b4638"
      },
      "source": [
        "train_dir = 'CK+48'\n",
        "\n",
        "train_datagen = ImageDataGenerator(rescale=1./255,\n",
        "      rotation_range=45,\n",
        "      width_shift_range=0.15,\n",
        "      height_shift_range=0.15,\n",
        "      shear_range=0.2,\n",
        "      zoom_range=0.5,\n",
        "      horizontal_flip=True,\n",
        "      fill_mode='nearest')\n",
        "\n",
        "train_generator = train_datagen.flow_from_directory(\n",
        "        train_dir,\n",
        "        target_size=(48,48),\n",
        "        batch_size=64,\n",
        "        color_mode=\"grayscale\",\n",
        "        class_mode='categorical')\n"
      ],
      "execution_count": 3,
      "outputs": [
        {
          "output_type": "stream",
          "text": [
            "Found 981 images belonging to 7 classes.\n"
          ],
          "name": "stdout"
        }
      ]
    },
    {
      "cell_type": "code",
      "metadata": {
        "id": "PSd2zhVzgcHc",
        "colab_type": "code",
        "colab": {
          "base_uri": "https://localhost:8080/",
          "height": 34
        },
        "outputId": "e6d9ed33-2e58-49b9-ec7f-e2f2e28abe54"
      },
      "source": [
        "train_generator.target_size"
      ],
      "execution_count": 6,
      "outputs": [
        {
          "output_type": "execute_result",
          "data": {
            "text/plain": [
              "(48, 48)"
            ]
          },
          "metadata": {
            "tags": []
          },
          "execution_count": 6
        }
      ]
    },
    {
      "cell_type": "code",
      "metadata": {
        "id": "ke-qsjlGgDII",
        "colab_type": "code",
        "colab": {
          "base_uri": "https://localhost:8080/",
          "height": 595
        },
        "outputId": "44324bc6-b667-4611-ca31-ecc1f70df87c"
      },
      "source": [
        "model = tf.keras.models.Sequential([\n",
        "                    tf.keras.layers.Conv2D(32, kernel_size=(3, 3), activation='relu', input_shape=(48,48,1)),\n",
        "                    tf.keras.layers.MaxPooling2D(pool_size=(2,2)),\n",
        "                    tf.keras.layers.Dropout(0.3),\n",
        "\n",
        "                    tf.keras.layers.Conv2D(128, kernel_size=(3, 3), activation='relu'),\n",
        "                    tf.keras.layers.MaxPooling2D(pool_size=(2,2)),\n",
        "                    tf.keras.layers.Dropout(0.3),\n",
        "                    \n",
        "                    tf.keras.layers.Conv2D(512, kernel_size=(3, 3), activation='relu'),\n",
        "                    tf.keras.layers.MaxPooling2D(pool_size=(2,2)),\n",
        "                    tf.keras.layers.Dropout(0.3),\n",
        "                    tf.keras.layers.Flatten(),\n",
        "                    tf.keras.layers.Dense(1024, activation='relu'),\n",
        "                    tf.keras.layers.Dropout(0.3),\n",
        "                    tf.keras.layers.Dense(7, activation='softmax')\n",
        "])\n",
        "\n",
        "model.compile(optimizer='adam',\n",
        "              loss='categorical_crossentropy')\n",
        "\n",
        "model.summary()"
      ],
      "execution_count": 9,
      "outputs": [
        {
          "output_type": "stream",
          "text": [
            "Model: \"sequential_1\"\n",
            "_________________________________________________________________\n",
            "Layer (type)                 Output Shape              Param #   \n",
            "=================================================================\n",
            "conv2d_6 (Conv2D)            (None, 46, 46, 32)        320       \n",
            "_________________________________________________________________\n",
            "max_pooling2d_3 (MaxPooling2 (None, 23, 23, 32)        0         \n",
            "_________________________________________________________________\n",
            "dropout_4 (Dropout)          (None, 23, 23, 32)        0         \n",
            "_________________________________________________________________\n",
            "conv2d_7 (Conv2D)            (None, 21, 21, 128)       36992     \n",
            "_________________________________________________________________\n",
            "max_pooling2d_4 (MaxPooling2 (None, 10, 10, 128)       0         \n",
            "_________________________________________________________________\n",
            "dropout_5 (Dropout)          (None, 10, 10, 128)       0         \n",
            "_________________________________________________________________\n",
            "conv2d_8 (Conv2D)            (None, 8, 8, 512)         590336    \n",
            "_________________________________________________________________\n",
            "max_pooling2d_5 (MaxPooling2 (None, 4, 4, 512)         0         \n",
            "_________________________________________________________________\n",
            "dropout_6 (Dropout)          (None, 4, 4, 512)         0         \n",
            "_________________________________________________________________\n",
            "flatten_1 (Flatten)          (None, 8192)              0         \n",
            "_________________________________________________________________\n",
            "dense_2 (Dense)              (None, 1024)              8389632   \n",
            "_________________________________________________________________\n",
            "dropout_7 (Dropout)          (None, 1024)              0         \n",
            "_________________________________________________________________\n",
            "dense_3 (Dense)              (None, 7)                 7175      \n",
            "=================================================================\n",
            "Total params: 9,024,455\n",
            "Trainable params: 9,024,455\n",
            "Non-trainable params: 0\n",
            "_________________________________________________________________\n"
          ],
          "name": "stdout"
        }
      ]
    },
    {
      "cell_type": "code",
      "metadata": {
        "id": "2KjJFqAU7t2-",
        "colab_type": "code",
        "outputId": "43ab7ff3-fd5d-4092-ecf5-6b198805b685",
        "colab": {
          "base_uri": "https://localhost:8080/",
          "height": 1000
        }
      },
      "source": [
        "history = model.fit_generator(\n",
        "          train_generator,\n",
        "          epochs=100)\n",
        "\n",
        "model.save('model.h5')"
      ],
      "execution_count": 10,
      "outputs": [
        {
          "output_type": "stream",
          "text": [
            "WARNING:tensorflow:sample_weight modes were coerced from\n",
            "  ...\n",
            "    to  \n",
            "  ['...']\n",
            "Train for 16 steps\n",
            "Epoch 1/100\n",
            "16/16 [==============================] - 1s 93ms/step - loss: 1.8722\n",
            "Epoch 2/100\n",
            "16/16 [==============================] - 1s 59ms/step - loss: 1.8427\n",
            "Epoch 3/100\n",
            "16/16 [==============================] - 1s 57ms/step - loss: 1.8201\n",
            "Epoch 4/100\n",
            "16/16 [==============================] - 1s 58ms/step - loss: 1.7951\n",
            "Epoch 5/100\n",
            "16/16 [==============================] - 1s 57ms/step - loss: 1.7643\n",
            "Epoch 6/100\n",
            "16/16 [==============================] - 1s 57ms/step - loss: 1.6895\n",
            "Epoch 7/100\n",
            "16/16 [==============================] - 1s 58ms/step - loss: 1.6230\n",
            "Epoch 8/100\n",
            "16/16 [==============================] - 1s 58ms/step - loss: 1.5811\n",
            "Epoch 9/100\n",
            "16/16 [==============================] - 1s 59ms/step - loss: 1.5790\n",
            "Epoch 10/100\n",
            "16/16 [==============================] - 1s 58ms/step - loss: 1.5391\n",
            "Epoch 11/100\n",
            "16/16 [==============================] - 1s 57ms/step - loss: 1.4508\n",
            "Epoch 12/100\n",
            "16/16 [==============================] - 1s 56ms/step - loss: 1.4357\n",
            "Epoch 13/100\n",
            "16/16 [==============================] - 1s 58ms/step - loss: 1.3798\n",
            "Epoch 14/100\n",
            "16/16 [==============================] - 1s 57ms/step - loss: 1.3460\n",
            "Epoch 15/100\n",
            "16/16 [==============================] - 1s 57ms/step - loss: 1.3832\n",
            "Epoch 16/100\n",
            "16/16 [==============================] - 1s 56ms/step - loss: 1.3068\n",
            "Epoch 17/100\n",
            "16/16 [==============================] - 1s 56ms/step - loss: 1.3189\n",
            "Epoch 18/100\n",
            "16/16 [==============================] - 1s 58ms/step - loss: 1.2908\n",
            "Epoch 19/100\n",
            "16/16 [==============================] - 1s 58ms/step - loss: 1.2295\n",
            "Epoch 20/100\n",
            "16/16 [==============================] - 1s 59ms/step - loss: 1.2432\n",
            "Epoch 21/100\n",
            "16/16 [==============================] - 1s 56ms/step - loss: 1.2351\n",
            "Epoch 22/100\n",
            "16/16 [==============================] - 1s 57ms/step - loss: 1.1668\n",
            "Epoch 23/100\n",
            "16/16 [==============================] - 1s 57ms/step - loss: 1.1258\n",
            "Epoch 24/100\n",
            "16/16 [==============================] - 1s 57ms/step - loss: 1.2054\n",
            "Epoch 25/100\n",
            "16/16 [==============================] - 1s 58ms/step - loss: 1.1482\n",
            "Epoch 26/100\n",
            "16/16 [==============================] - 1s 56ms/step - loss: 1.0817\n",
            "Epoch 27/100\n",
            "16/16 [==============================] - 1s 57ms/step - loss: 1.1041\n",
            "Epoch 28/100\n",
            "16/16 [==============================] - 1s 57ms/step - loss: 1.0388\n",
            "Epoch 29/100\n",
            "16/16 [==============================] - 1s 58ms/step - loss: 1.0910\n",
            "Epoch 30/100\n",
            "16/16 [==============================] - 1s 57ms/step - loss: 1.0970\n",
            "Epoch 31/100\n",
            "16/16 [==============================] - 1s 57ms/step - loss: 1.0519\n",
            "Epoch 32/100\n",
            "16/16 [==============================] - 1s 60ms/step - loss: 0.9975\n",
            "Epoch 33/100\n",
            "16/16 [==============================] - 1s 57ms/step - loss: 1.0028\n",
            "Epoch 34/100\n",
            "16/16 [==============================] - 1s 57ms/step - loss: 1.0197\n",
            "Epoch 35/100\n",
            "16/16 [==============================] - 1s 59ms/step - loss: 0.9607\n",
            "Epoch 36/100\n",
            "16/16 [==============================] - 1s 57ms/step - loss: 0.9588\n",
            "Epoch 37/100\n",
            "16/16 [==============================] - 1s 57ms/step - loss: 0.9104\n",
            "Epoch 38/100\n",
            "16/16 [==============================] - 1s 59ms/step - loss: 0.9884\n",
            "Epoch 39/100\n",
            "16/16 [==============================] - 1s 59ms/step - loss: 0.9748\n",
            "Epoch 40/100\n",
            "16/16 [==============================] - 1s 58ms/step - loss: 0.9332\n",
            "Epoch 41/100\n",
            "16/16 [==============================] - 1s 57ms/step - loss: 0.9279\n",
            "Epoch 42/100\n",
            "16/16 [==============================] - 1s 57ms/step - loss: 0.9027\n",
            "Epoch 43/100\n",
            "16/16 [==============================] - 1s 58ms/step - loss: 0.9063\n",
            "Epoch 44/100\n",
            "16/16 [==============================] - 1s 58ms/step - loss: 0.9047\n",
            "Epoch 45/100\n",
            "16/16 [==============================] - 1s 58ms/step - loss: 0.8743\n",
            "Epoch 46/100\n",
            "16/16 [==============================] - 1s 56ms/step - loss: 0.8408\n",
            "Epoch 47/100\n",
            "16/16 [==============================] - 1s 56ms/step - loss: 0.8687\n",
            "Epoch 48/100\n",
            "16/16 [==============================] - 1s 57ms/step - loss: 0.8254\n",
            "Epoch 49/100\n",
            "16/16 [==============================] - 1s 56ms/step - loss: 0.8596\n",
            "Epoch 50/100\n",
            "16/16 [==============================] - 1s 56ms/step - loss: 0.8244\n",
            "Epoch 51/100\n",
            "16/16 [==============================] - 1s 57ms/step - loss: 0.8112\n",
            "Epoch 52/100\n",
            "16/16 [==============================] - 1s 57ms/step - loss: 0.7935\n",
            "Epoch 53/100\n",
            "16/16 [==============================] - 1s 57ms/step - loss: 0.8134\n",
            "Epoch 54/100\n",
            "16/16 [==============================] - 1s 56ms/step - loss: 0.7332\n",
            "Epoch 55/100\n",
            "16/16 [==============================] - 1s 58ms/step - loss: 0.7843\n",
            "Epoch 56/100\n",
            "16/16 [==============================] - 1s 56ms/step - loss: 0.7747\n",
            "Epoch 57/100\n",
            "16/16 [==============================] - 1s 57ms/step - loss: 0.7467\n",
            "Epoch 58/100\n",
            "16/16 [==============================] - 1s 58ms/step - loss: 0.7764\n",
            "Epoch 59/100\n",
            "16/16 [==============================] - 1s 56ms/step - loss: 0.7392\n",
            "Epoch 60/100\n",
            "16/16 [==============================] - 1s 57ms/step - loss: 0.7307\n",
            "Epoch 61/100\n",
            "16/16 [==============================] - 1s 57ms/step - loss: 0.7241\n",
            "Epoch 62/100\n",
            "16/16 [==============================] - 1s 58ms/step - loss: 0.7237\n",
            "Epoch 63/100\n",
            "16/16 [==============================] - 1s 57ms/step - loss: 0.6915\n",
            "Epoch 64/100\n",
            "16/16 [==============================] - 1s 57ms/step - loss: 0.7529\n",
            "Epoch 65/100\n",
            "16/16 [==============================] - 1s 58ms/step - loss: 0.6853\n",
            "Epoch 66/100\n",
            "16/16 [==============================] - 1s 57ms/step - loss: 0.6754\n",
            "Epoch 67/100\n",
            "16/16 [==============================] - 1s 57ms/step - loss: 0.6853\n",
            "Epoch 68/100\n",
            "16/16 [==============================] - 1s 58ms/step - loss: 0.7377\n",
            "Epoch 69/100\n",
            "16/16 [==============================] - 1s 57ms/step - loss: 0.6725\n",
            "Epoch 70/100\n",
            "16/16 [==============================] - 1s 57ms/step - loss: 0.6366\n",
            "Epoch 71/100\n",
            "16/16 [==============================] - 1s 57ms/step - loss: 0.6647\n",
            "Epoch 72/100\n",
            "16/16 [==============================] - 1s 58ms/step - loss: 0.6924\n",
            "Epoch 73/100\n",
            "16/16 [==============================] - 1s 59ms/step - loss: 0.6684\n",
            "Epoch 74/100\n",
            "16/16 [==============================] - 1s 58ms/step - loss: 0.6602\n",
            "Epoch 75/100\n",
            "16/16 [==============================] - 1s 58ms/step - loss: 0.7024\n",
            "Epoch 76/100\n",
            "16/16 [==============================] - 1s 57ms/step - loss: 0.6519\n",
            "Epoch 77/100\n",
            "16/16 [==============================] - 1s 56ms/step - loss: 0.6389\n",
            "Epoch 78/100\n",
            "16/16 [==============================] - 1s 58ms/step - loss: 0.6488\n",
            "Epoch 79/100\n",
            "16/16 [==============================] - 1s 56ms/step - loss: 0.6124\n",
            "Epoch 80/100\n",
            "16/16 [==============================] - 1s 57ms/step - loss: 0.6002\n",
            "Epoch 81/100\n",
            "16/16 [==============================] - 1s 57ms/step - loss: 0.6911\n",
            "Epoch 82/100\n",
            "16/16 [==============================] - 1s 58ms/step - loss: 0.6205\n",
            "Epoch 83/100\n",
            "16/16 [==============================] - 1s 57ms/step - loss: 0.5888\n",
            "Epoch 84/100\n",
            "16/16 [==============================] - 1s 58ms/step - loss: 0.6246\n",
            "Epoch 85/100\n",
            "16/16 [==============================] - 1s 58ms/step - loss: 0.5755\n",
            "Epoch 86/100\n",
            "16/16 [==============================] - 1s 56ms/step - loss: 0.6267\n",
            "Epoch 87/100\n",
            "16/16 [==============================] - 1s 59ms/step - loss: 0.6253\n",
            "Epoch 88/100\n",
            "16/16 [==============================] - 1s 56ms/step - loss: 0.6193\n",
            "Epoch 89/100\n",
            "16/16 [==============================] - 1s 57ms/step - loss: 0.5723\n",
            "Epoch 90/100\n",
            "16/16 [==============================] - 1s 58ms/step - loss: 0.5999\n",
            "Epoch 91/100\n",
            "16/16 [==============================] - 1s 58ms/step - loss: 0.5591\n",
            "Epoch 92/100\n",
            "16/16 [==============================] - 1s 57ms/step - loss: 0.5531\n",
            "Epoch 93/100\n",
            "16/16 [==============================] - 1s 57ms/step - loss: 0.5231\n",
            "Epoch 94/100\n",
            "16/16 [==============================] - 1s 57ms/step - loss: 0.5723\n",
            "Epoch 95/100\n",
            "16/16 [==============================] - 1s 57ms/step - loss: 0.5558\n",
            "Epoch 96/100\n",
            "16/16 [==============================] - 1s 56ms/step - loss: 0.5278\n",
            "Epoch 97/100\n",
            "16/16 [==============================] - 1s 55ms/step - loss: 0.6285\n",
            "Epoch 98/100\n",
            "16/16 [==============================] - 1s 57ms/step - loss: 0.5564\n",
            "Epoch 99/100\n",
            "16/16 [==============================] - 1s 57ms/step - loss: 0.5325\n",
            "Epoch 100/100\n",
            "16/16 [==============================] - 1s 56ms/step - loss: 0.5118\n"
          ],
          "name": "stdout"
        }
      ]
    },
    {
      "cell_type": "code",
      "metadata": {
        "id": "8PItgR2hjpsC",
        "colab_type": "code",
        "colab": {
          "base_uri": "https://localhost:8080/",
          "height": 295
        },
        "outputId": "b64e1a64-557a-49bf-8349-49a53de9ad09"
      },
      "source": [
        "import matplotlib.pyplot as plt\n",
        "\n",
        "plt.plot(history.history['loss'])\n",
        "plt.ylabel('loss')\n",
        "plt.xlabel('epoch')"
      ],
      "execution_count": 12,
      "outputs": [
        {
          "output_type": "display_data",
          "data": {
            "image/png": "[encoded data removed]",
            "text/plain": [
              "<Figure size 432x288 with 1 Axes>"
            ]
          },
          "metadata": {
            "tags": []
          }
        }
      ]
    },
    {
      "cell_type": "code",
      "metadata": {
        "id": "gySBZs7gNFdg",
        "colab_type": "code",
        "colab": {}
      },
      "source": [
        "model.save_weights('modelw.h5')"
      ],
      "execution_count": 0,
      "outputs": []
    }
  ]
}